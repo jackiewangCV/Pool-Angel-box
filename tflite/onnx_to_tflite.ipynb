{
  "cells": [
    {
      "cell_type": "code",
      "execution_count": null,
      "metadata": {
        "colab": {
          "base_uri": "https://localhost:8080/"
        },
        "id": "Or0JfFnu-Fur",
        "outputId": "d1173a85-55d4-44cd-da49-e849a43cbbf8"
      },
      "outputs": [],
      "source": [
        "from google.colab import drive\n",
        "drive.mount('/content/drive')"
      ]
    },
    {
      "cell_type": "code",
      "execution_count": null,
      "metadata": {
        "colab": {
          "base_uri": "https://localhost:8080/"
        },
        "id": "-Cc5dVBunLNG",
        "outputId": "18321cdf-4ce3-4f6c-9725-9e9f762ca493"
      },
      "outputs": [],
      "source": [
        "!git clone https://github.com/ultralytics/yolov5.git"
      ]
    },
    {
      "cell_type": "code",
      "execution_count": null,
      "metadata": {
        "id": "D71fD4cyoEm2"
      },
      "outputs": [],
      "source": [
        "import sys\n",
        "sys.path.append('/content/yolov5/')"
      ]
    },
    {
      "cell_type": "code",
      "execution_count": null,
      "metadata": {
        "colab": {
          "base_uri": "https://localhost:8080/"
        },
        "id": "XeDIWwfhmom5",
        "outputId": "733b8236-f19f-4060-f7db-5fb113dd227d"
      },
      "outputs": [],
      "source": [
        "from yolov5.models.experimental import attempt_load\n",
        "import torch\n",
        "\n",
        "model_path='/content/drive/MyDrive/PoolAngel/crowdhuman_yolov5m.pt'\n",
        "\n",
        "device=torch.device('cpu')\n",
        "pytorch_model = attempt_load(model_path)\n",
        "\n",
        "im_size=640\n",
        "\n",
        "dummy_input = torch.rand((1, 3, im_size, im_size))\n",
        "\n",
        "onnx_model_path = model_path.replace('pt','onnx')\n",
        "torch.onnx.export(pytorch_model, dummy_input, onnx_model_path, export_params=True,  # store the trained parameter weights inside the model file\n",
        "         opset_version=12,    # the ONNX version to export the model to\n",
        "         do_constant_folding=True,  # whether to execute constant folding for optimization\n",
        "         input_names = ['modelInput'],   # the model's input names\n",
        "         output_names = ['modelOutput'], # the model's output names\n",
        "        )\n",
        "print('onnx_expoted')"
      ]
    },
    {
      "cell_type": "code",
      "execution_count": null,
      "metadata": {
        "colab": {
          "base_uri": "https://localhost:8080/"
        },
        "id": "A71kIPZgAbFo",
        "outputId": "7c2d1561-9065-4d2a-a3b0-e0a4a1ff63da"
      },
      "outputs": [],
      "source": [
        "# Set path variables\n",
        "onnx_path = model_path.replace('pt','onnx')\n",
        "\n",
        "# Check that correct files have been uploaded\n",
        "import os\n",
        "\n",
        "assert os.path.exists(onnx_path)\n",
        "\n",
        "print(\"Files uploaded successfully.\")"
      ]
    },
    {
      "cell_type": "code",
      "execution_count": null,
      "metadata": {
        "colab": {
          "base_uri": "https://localhost:8080/"
        },
        "id": "Xj94NAARt8xR",
        "outputId": "042761cd-25d1-49ea-f6b6-8e176e7c48c8"
      },
      "outputs": [],
      "source": [
        "# onnx-tf was designed for TensorFlow 1.X, so force this version.\n",
        "#%tensorflow_version 1.x\n",
        "import tensorflow as tf\n",
        "\n",
        "# \"!\" allows command-line input. Use pip package manager to install the\n",
        "# conversion package\n",
        "!pip install onnx-tf"
      ]
    },
    {
      "cell_type": "code",
      "execution_count": null,
      "metadata": {
        "id": "oXwuHawWvXmk"
      },
      "outputs": [],
      "source": [
        "import onnx\n",
        "from onnx_tf.backend import prepare\n",
        "\n",
        "onnx_model = onnx.load(onnx_path)\n",
        "tf_rep = prepare(onnx_model)"
      ]
    },
    {
      "cell_type": "code",
      "execution_count": null,
      "metadata": {
        "colab": {
          "base_uri": "https://localhost:8080/"
        },
        "id": "vOd67kNM2AOY",
        "outputId": "1e285573-19ef-40c9-b8da-6ed97113e0a9"
      },
      "outputs": [],
      "source": [
        "pb_path = \"crowdhuman_yolov5m.pb\"\n",
        "tf_rep.export_graph(pb_path)\n",
        "\n",
        "assert os.path.exists(pb_path)\n",
        "print(\".pb model converted successfully.\")"
      ]
    },
    {
      "cell_type": "code",
      "execution_count": null,
      "metadata": {
        "colab": {
          "base_uri": "https://localhost:8080/"
        },
        "id": "kfgqYB_sUPqa",
        "outputId": "c4709dc2-7862-4fdc-bbfc-f5433a5ab807"
      },
      "outputs": [],
      "source": [
        "input_nodes = tf_rep.inputs\n",
        "output_nodes = tf_rep.outputs\n",
        "print(\"The names of the input nodes are: {}\".format(input_nodes))\n",
        "print(\"The names of the output nodes are: {}\".format(output_nodes))"
      ]
    },
    {
      "cell_type": "code",
      "execution_count": null,
      "metadata": {
        "id": "BDNz2uWDOo1T"
      },
      "outputs": [],
      "source": [
        "converter = tf.lite.TFLiteConverter.from_saved_model(pb_path) #,\n",
        "                                                      #input_arrays=input_nodes,\n",
        "                                                      #output_arrays=output_nodes)\n",
        "tflite_rep = converter.convert()"
      ]
    },
    {
      "cell_type": "code",
      "execution_count": null,
      "metadata": {
        "colab": {
          "base_uri": "https://localhost:8080/"
        },
        "id": "iBz2vbs-XKpd",
        "outputId": "bd589233-00a4-46c1-8c6e-62c03bf99966"
      },
      "outputs": [],
      "source": [
        "tflite_path = \"crowdhuman_yolov5m.tflite\"\n",
        "open(tflite_path, \"wb\").write(tflite_rep)\n",
        "\n",
        "assert os.path.exists(tflite_path)\n",
        "print(\".tflite model converted successfully.\")"
      ]
    },
    {
      "cell_type": "code",
      "execution_count": null,
      "metadata": {
        "colab": {
          "base_uri": "https://localhost:8080/"
        },
        "id": "7bEZQzkNplP8",
        "outputId": "731c5b63-6b6c-4221-9c2b-2f042c99c528"
      },
      "outputs": [],
      "source": [
        "!pip3 install tflite_runtime"
      ]
    },
    {
      "cell_type": "code",
      "execution_count": null,
      "metadata": {
        "colab": {
          "base_uri": "https://localhost:8080/",
          "height": 508
        },
        "id": "TY3G_jNUo_uh",
        "outputId": "451a832c-f992-485c-8adb-6a800d88ed36"
      },
      "outputs": [],
      "source": [
        "\n",
        "import tflite_runtime.interpreter as tflite\n",
        "import numpy as np\n",
        "import cv2\n",
        "import matplotlib.pyplot as plt\n",
        "\n",
        "## Test object detection model  ###\n",
        "\n",
        "model_file='/content/crowdhuman_yolov5m.tflite'\n",
        "\n",
        "interpreter = tflite.Interpreter(model_path=model_file)\n",
        "\n",
        "interpreter.allocate_tensors()\n",
        "\n",
        "# Get input and output tensors.\n",
        "input_details = interpreter.get_input_details()\n",
        "output_details = interpreter.get_output_details()\n",
        "\n",
        "# Test the model on random input data.\n",
        "input_shape = input_details[0]['shape']\n",
        "image=cv2.imread('/content/drive/MyDrive/PoolAngel/vid2-005.jpg')\n",
        "image=cv2.resize(image, (640,640))[:,:,::-1].transpose([2,0,1])\n",
        "\n",
        "input_data = image\n",
        "input_data=input_data.astype('float32')[None]\n",
        "\n",
        "interpreter.set_tensor(input_details[0]['index'], input_data)\n",
        "\n",
        "interpreter.invoke()\n",
        "\n",
        "# The function `get_tensor()` returns a copy of the tensor data.\n",
        "# Use `tensor()` in order to get a pointer to the tensor.\n",
        "output_data = interpreter.get_tensor(output_details[3]['index'])\n",
        "pred=output_data[0]\n",
        "\n",
        "# pred=pred.reshape(-1,5)\n",
        "print(pred.shape)"
      ]
    }
  ],
  "metadata": {
    "colab": {
      "collapsed_sections": [
        "uZ-iKIlAGFgq",
        "wC6AVy57GP0x",
        "7_1Pxu96XKpU",
        "qx74mzYZFew6",
        "-s-8GlTjiErh",
        "C3RjanvwFt7I",
        "zJ3h-XayF68_",
        "Qn1HMaJGdZnb",
        "DbzMl8aNdaIk"
      ],
      "provenance": []
    },
    "kernelspec": {
      "display_name": "Python 3",
      "name": "python3"
    }
  },
  "nbformat": 4,
  "nbformat_minor": 0
}
